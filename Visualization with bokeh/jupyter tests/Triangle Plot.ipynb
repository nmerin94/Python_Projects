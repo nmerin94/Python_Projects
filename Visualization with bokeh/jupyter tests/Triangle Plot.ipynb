{
 "cells": [
  {
   "cell_type": "code",
   "execution_count": 4,
   "metadata": {},
   "outputs": [],
   "source": [
    "from bokeh.plotting import figure\n",
    "from bokeh.io import output_file, show\n",
    "\n",
    "# Triangle points\n",
    "x1 = [3, 7.5, 10]\n",
    "y1 = [3, 6, 9]\n",
    "\n",
    "#prepare output file\n",
    "output_file(\"Triangle.html\")\n",
    "\n",
    "f2 = figure()\n",
    "f2.triangle(x1,y1)\n",
    "show(f2)"
   ]
  }
 ],
 "metadata": {
  "kernelspec": {
   "display_name": "Python 3",
   "language": "python",
   "name": "python3"
  },
  "language_info": {
   "codemirror_mode": {
    "name": "ipython",
    "version": 3
   },
   "file_extension": ".py",
   "mimetype": "text/x-python",
   "name": "python",
   "nbconvert_exporter": "python",
   "pygments_lexer": "ipython3",
   "version": "3.6.5"
  }
 },
 "nbformat": 4,
 "nbformat_minor": 2
}
