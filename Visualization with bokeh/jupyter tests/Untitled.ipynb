{
 "cells": [
  {
   "cell_type": "code",
   "execution_count": 18,
   "metadata": {},
   "outputs": [],
   "source": [
    "import pandas\n",
    "from bokeh.plotting import figure, output_file, show\n",
    "\n",
    "df =  pandas.read_csv(\"adbe.csv\", parse_dates = [\"Date\"])\n",
    "p = figure(width = 500,  height = 500, x_axis_type = \"datetime\", sizing_mode = \"stretch_both\")\n",
    "p.line(df[\"Date\"], df[\"Close\"], color = \"Orange\", alpha = 0.5)\n",
    "output_file(\"Datetime.html\")\n",
    "show(p)"
   ]
  }
 ],
 "metadata": {
  "kernelspec": {
   "display_name": "Python 3",
   "language": "python",
   "name": "python3"
  },
  "language_info": {
   "codemirror_mode": {
    "name": "ipython",
    "version": 3
   },
   "file_extension": ".py",
   "mimetype": "text/x-python",
   "name": "python",
   "nbconvert_exporter": "python",
   "pygments_lexer": "ipython3",
   "version": "3.6.5"
  }
 },
 "nbformat": 4,
 "nbformat_minor": 2
}
