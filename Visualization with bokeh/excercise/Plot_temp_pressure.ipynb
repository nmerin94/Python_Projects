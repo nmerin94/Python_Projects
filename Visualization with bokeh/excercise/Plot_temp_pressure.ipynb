{
 "cells": [
  {
   "cell_type": "code",
   "execution_count": 18,
   "metadata": {},
   "outputs": [],
   "source": [
    "import pandas\n",
    "from bokeh.plotting import figure, output_file, show\n",
    "\n",
    "df = pandas.read_excel(\"verlegenhuken.xlsx\", sheet_name = 0)\n",
    "df[\"Temperature\"] = df[\"Temperature\"]/10\n",
    "df[\"Pressure\"] = df[\"Pressure\"]/10\n",
    "\n",
    "p = figure(plot_width=500,plot_height=400,tools='pan',logo=None)\n",
    "p.title.text = \"Pressure Temperature Plot\"\n",
    "p.xaxis.axis_label = \"Temperature(C)\"\n",
    "p.yaxis.axis_label = \"Pressure(hPa)\"\n",
    "\n",
    "p.circle(df[\"Temperature\"],df[\"Pressure\"], size = 0.5)\n",
    "output_file(\"EXER_Temp_Press.html\")\n",
    "show(p)\n",
    "\n"
   ]
  },
  {
   "cell_type": "code",
   "execution_count": null,
   "metadata": {},
   "outputs": [],
   "source": []
  }
 ],
 "metadata": {
  "kernelspec": {
   "display_name": "Python 3",
   "language": "python",
   "name": "python3"
  },
  "language_info": {
   "codemirror_mode": {
    "name": "ipython",
    "version": 3
   },
   "file_extension": ".py",
   "mimetype": "text/x-python",
   "name": "python",
   "nbconvert_exporter": "python",
   "pygments_lexer": "ipython3",
   "version": "3.6.5"
  }
 },
 "nbformat": 4,
 "nbformat_minor": 2
}
